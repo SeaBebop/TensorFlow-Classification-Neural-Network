{
 "cells": [
  {
   "cell_type": "code",
   "execution_count": 15,
   "metadata": {
    "execution": {
     "iopub.execute_input": "2024-01-26T03:55:04.064978Z",
     "iopub.status.busy": "2024-01-26T03:55:04.064230Z",
     "iopub.status.idle": "2024-01-26T03:55:15.577094Z",
     "shell.execute_reply": "2024-01-26T03:55:15.575753Z",
     "shell.execute_reply.started": "2024-01-26T03:55:04.064945Z"
    }
   },
   "outputs": [
    {
     "name": "stdout",
     "output_type": "stream",
     "text": [
      "Requirement already satisfied: tensorflow in /usr/local/lib/python3.9/dist-packages (2.9.2)\n",
      "Requirement already satisfied: keras<2.10.0,>=2.9.0rc0 in /usr/local/lib/python3.9/dist-packages (from tensorflow) (2.9.0)\n",
      "Requirement already satisfied: numpy>=1.20 in /usr/local/lib/python3.9/dist-packages (from tensorflow) (1.23.4)\n",
      "Requirement already satisfied: absl-py>=1.0.0 in /usr/local/lib/python3.9/dist-packages (from tensorflow) (1.4.0)\n",
      "Requirement already satisfied: flatbuffers<2,>=1.12 in /usr/local/lib/python3.9/dist-packages (from tensorflow) (1.12)\n",
      "Requirement already satisfied: libclang>=13.0.0 in /usr/local/lib/python3.9/dist-packages (from tensorflow) (15.0.6.1)\n",
      "Requirement already satisfied: astunparse>=1.6.0 in /usr/local/lib/python3.9/dist-packages (from tensorflow) (1.6.3)\n",
      "Requirement already satisfied: tensorboard<2.10,>=2.9 in /usr/local/lib/python3.9/dist-packages (from tensorflow) (2.9.1)\n",
      "Requirement already satisfied: wrapt>=1.11.0 in /usr/local/lib/python3.9/dist-packages (from tensorflow) (1.14.1)\n",
      "Requirement already satisfied: keras-preprocessing>=1.1.1 in /usr/local/lib/python3.9/dist-packages (from tensorflow) (1.1.2)\n",
      "Requirement already satisfied: h5py>=2.9.0 in /usr/local/lib/python3.9/dist-packages (from tensorflow) (3.8.0)\n",
      "Requirement already satisfied: tensorflow-io-gcs-filesystem>=0.23.1 in /usr/local/lib/python3.9/dist-packages (from tensorflow) (0.30.0)\n",
      "Requirement already satisfied: gast<=0.4.0,>=0.2.1 in /usr/local/lib/python3.9/dist-packages (from tensorflow) (0.4.0)\n",
      "Requirement already satisfied: setuptools in /usr/local/lib/python3.9/dist-packages (from tensorflow) (66.1.1)\n",
      "Requirement already satisfied: protobuf<3.20,>=3.9.2 in /usr/local/lib/python3.9/dist-packages (from tensorflow) (3.19.6)\n",
      "Requirement already satisfied: typing-extensions>=3.6.6 in /usr/local/lib/python3.9/dist-packages (from tensorflow) (4.4.0)\n",
      "Requirement already satisfied: tensorflow-estimator<2.10.0,>=2.9.0rc0 in /usr/local/lib/python3.9/dist-packages (from tensorflow) (2.9.0)\n",
      "Requirement already satisfied: six>=1.12.0 in /usr/lib/python3/dist-packages (from tensorflow) (1.14.0)\n",
      "Requirement already satisfied: google-pasta>=0.1.1 in /usr/local/lib/python3.9/dist-packages (from tensorflow) (0.2.0)\n",
      "Requirement already satisfied: termcolor>=1.1.0 in /usr/local/lib/python3.9/dist-packages (from tensorflow) (2.2.0)\n",
      "Requirement already satisfied: packaging in /usr/local/lib/python3.9/dist-packages (from tensorflow) (23.0)\n",
      "Requirement already satisfied: grpcio<2.0,>=1.24.3 in /usr/local/lib/python3.9/dist-packages (from tensorflow) (1.51.1)\n",
      "Requirement already satisfied: opt-einsum>=2.3.2 in /usr/local/lib/python3.9/dist-packages (from tensorflow) (3.3.0)\n",
      "Requirement already satisfied: wheel<1.0,>=0.23.0 in /usr/local/lib/python3.9/dist-packages (from astunparse>=1.6.0->tensorflow) (0.35.1)\n",
      "Requirement already satisfied: markdown>=2.6.8 in /usr/local/lib/python3.9/dist-packages (from tensorboard<2.10,>=2.9->tensorflow) (3.4.1)\n",
      "Requirement already satisfied: tensorboard-plugin-wit>=1.6.0 in /usr/local/lib/python3.9/dist-packages (from tensorboard<2.10,>=2.9->tensorflow) (1.8.1)\n",
      "Requirement already satisfied: google-auth-oauthlib<0.5,>=0.4.1 in /usr/local/lib/python3.9/dist-packages (from tensorboard<2.10,>=2.9->tensorflow) (0.4.6)\n",
      "Requirement already satisfied: werkzeug>=1.0.1 in /usr/local/lib/python3.9/dist-packages (from tensorboard<2.10,>=2.9->tensorflow) (2.2.2)\n",
      "Requirement already satisfied: requests<3,>=2.21.0 in /usr/local/lib/python3.9/dist-packages (from tensorboard<2.10,>=2.9->tensorflow) (2.28.2)\n",
      "Requirement already satisfied: google-auth<3,>=1.6.3 in /usr/local/lib/python3.9/dist-packages (from tensorboard<2.10,>=2.9->tensorflow) (2.16.0)\n",
      "Requirement already satisfied: tensorboard-data-server<0.7.0,>=0.6.0 in /usr/local/lib/python3.9/dist-packages (from tensorboard<2.10,>=2.9->tensorflow) (0.6.1)\n",
      "Requirement already satisfied: rsa<5,>=3.1.4 in /usr/local/lib/python3.9/dist-packages (from google-auth<3,>=1.6.3->tensorboard<2.10,>=2.9->tensorflow) (4.7.2)\n",
      "Requirement already satisfied: pyasn1-modules>=0.2.1 in /usr/local/lib/python3.9/dist-packages (from google-auth<3,>=1.6.3->tensorboard<2.10,>=2.9->tensorflow) (0.2.8)\n",
      "Requirement already satisfied: cachetools<6.0,>=2.0.0 in /usr/local/lib/python3.9/dist-packages (from google-auth<3,>=1.6.3->tensorboard<2.10,>=2.9->tensorflow) (5.3.0)\n",
      "Requirement already satisfied: requests-oauthlib>=0.7.0 in /usr/local/lib/python3.9/dist-packages (from google-auth-oauthlib<0.5,>=0.4.1->tensorboard<2.10,>=2.9->tensorflow) (1.3.1)\n",
      "Requirement already satisfied: importlib-metadata>=4.4 in /usr/local/lib/python3.9/dist-packages (from markdown>=2.6.8->tensorboard<2.10,>=2.9->tensorflow) (6.0.0)\n",
      "Requirement already satisfied: urllib3<1.27,>=1.21.1 in /usr/local/lib/python3.9/dist-packages (from requests<3,>=2.21.0->tensorboard<2.10,>=2.9->tensorflow) (1.26.14)\n",
      "Requirement already satisfied: certifi>=2017.4.17 in /usr/lib/python3/dist-packages (from requests<3,>=2.21.0->tensorboard<2.10,>=2.9->tensorflow) (2019.11.28)\n",
      "Requirement already satisfied: charset-normalizer<4,>=2 in /usr/local/lib/python3.9/dist-packages (from requests<3,>=2.21.0->tensorboard<2.10,>=2.9->tensorflow) (2.1.1)\n",
      "Requirement already satisfied: idna<4,>=2.5 in /usr/lib/python3/dist-packages (from requests<3,>=2.21.0->tensorboard<2.10,>=2.9->tensorflow) (2.8)\n",
      "Requirement already satisfied: MarkupSafe>=2.1.1 in /usr/local/lib/python3.9/dist-packages (from werkzeug>=1.0.1->tensorboard<2.10,>=2.9->tensorflow) (2.1.2)\n",
      "Requirement already satisfied: zipp>=0.5 in /usr/local/lib/python3.9/dist-packages (from importlib-metadata>=4.4->markdown>=2.6.8->tensorboard<2.10,>=2.9->tensorflow) (3.11.0)\n",
      "Requirement already satisfied: pyasn1<0.5.0,>=0.4.6 in /usr/local/lib/python3.9/dist-packages (from pyasn1-modules>=0.2.1->google-auth<3,>=1.6.3->tensorboard<2.10,>=2.9->tensorflow) (0.4.8)\n",
      "Requirement already satisfied: oauthlib>=3.0.0 in /usr/local/lib/python3.9/dist-packages (from requests-oauthlib>=0.7.0->google-auth-oauthlib<0.5,>=0.4.1->tensorboard<2.10,>=2.9->tensorflow) (3.2.2)\n",
      "\u001b[33mWARNING: Running pip as the 'root' user can result in broken permissions and conflicting behaviour with the system package manager. It is recommended to use a virtual environment instead: https://pip.pypa.io/warnings/venv\u001b[0m\u001b[33m\n",
      "\u001b[0mRequirement already satisfied: tqdm in /usr/local/lib/python3.9/dist-packages (4.64.1)\n",
      "\u001b[33mWARNING: Running pip as the 'root' user can result in broken permissions and conflicting behaviour with the system package manager. It is recommended to use a virtual environment instead: https://pip.pypa.io/warnings/venv\u001b[0m\u001b[33m\n",
      "\u001b[0mRequirement already satisfied: pydicom in /usr/local/lib/python3.9/dist-packages (2.4.4)\n",
      "\u001b[33mWARNING: Running pip as the 'root' user can result in broken permissions and conflicting behaviour with the system package manager. It is recommended to use a virtual environment instead: https://pip.pypa.io/warnings/venv\u001b[0m\u001b[33m\n",
      "\u001b[0m"
     ]
    }
   ],
   "source": [
    "!pip install tensorflow\n",
    "!pip install tqdm\n",
    "!pip install pydicom"
   ]
  },
  {
   "cell_type": "code",
   "execution_count": 16,
   "metadata": {
    "colab": {
     "base_uri": "https://localhost:8080/"
    },
    "execution": {
     "iopub.execute_input": "2024-01-26T03:55:15.580222Z",
     "iopub.status.busy": "2024-01-26T03:55:15.579839Z",
     "iopub.status.idle": "2024-01-26T03:55:15.587855Z",
     "shell.execute_reply": "2024-01-26T03:55:15.586908Z",
     "shell.execute_reply.started": "2024-01-26T03:55:15.580182Z"
    },
    "id": "Dm_bKQNaKzty",
    "outputId": "54572967-fee2-4123-eb79-d3ce6016d94f"
   },
   "outputs": [],
   "source": [
    "##\n",
    "## Setting up Data location\n",
    "##\n",
    "import numpy as np\n",
    "from sklearn.preprocessing import MinMaxScaler\n",
    "import csv\n",
    "import keras\n",
    "import tensorflow \n",
    "import tensorflow as tf\n",
    "from keras.models import Model, Sequential\n",
    "from keras.layers import Input, Dense, Conv2D\n",
    "from keras.layers import MaxPooling2D, UpSampling2D, Flatten, Reshape\n",
    "import matplotlib.pyplot as plt\n",
    "import pandas as pd\n",
    "import os\n",
    "from tqdm import tqdm\n",
    "from PIL import Image\n",
    "from sklearn.model_selection import train_test_split\n",
    "from matplotlib import pyplot\n",
    "import keras\n",
    "from keras import layers\n"
   ]
  },
  {
   "cell_type": "code",
   "execution_count": 17,
   "metadata": {
    "execution": {
     "iopub.execute_input": "2024-01-26T03:55:15.589805Z",
     "iopub.status.busy": "2024-01-26T03:55:15.589501Z",
     "iopub.status.idle": "2024-01-26T03:55:15.596878Z",
     "shell.execute_reply": "2024-01-26T03:55:15.595663Z",
     "shell.execute_reply.started": "2024-01-26T03:55:15.589771Z"
    }
   },
   "outputs": [],
   "source": [
    "    # \n",
    "    # Data Processing\n",
    "    #\n",
    "    import numpy as np\n",
    "    import keras\n",
    "    from keras.models import Model, Sequential\n",
    "    from keras.layers import Input, Dense, Conv2D\n",
    "    from keras.layers import MaxPooling2D, UpSampling2D, Flatten, Reshape\n",
    "\n",
    "    import matplotlib.pyplot as plt\n",
    "    import pandas as pd\n",
    "\n",
    "    import numpy as np\n",
    "    from sklearn.preprocessing import MinMaxScaler\n",
    "    from tensorflow.keras.preprocessing.image import load_img, img_to_array\n",
    "    from tensorflow.keras.models import Model, Sequential\n",
    "    import keras\n",
    "    from keras.models import Model, Sequential\n",
    "    from keras.layers import Input, Dense, Conv2D, BatchNormalization, LeakyReLU\n",
    "    from keras.layers import MaxPooling2D, UpSampling2D, Flatten, Reshape\n",
    "    #from keras.preprocessing.image import load_img, img_to_array\n",
    "    from tensorflow.keras.regularizers import l1\n",
    "    import matplotlib.pyplot as plt\n",
    "\n",
    "    import pydicom        # install the pydicom package\n",
    "    from PIL import Image # install the pillow package and it is called PIL.\n",
    "    from sklearn.model_selection import train_test_split\n",
    "\n",
    "    from matplotlib import pyplot\n",
    "    # train autoencoder for classification with no compoutputression in the bottleneck layer\n",
    "    import keras\n",
    "    from keras import layers\n",
    "    # train autoencoder for classification with no compression in the bottleneck layer\n",
    "    import keras\n",
    "    from keras import layers\n",
    " "
   ]
  },
  {
   "cell_type": "code",
   "execution_count": 18,
   "metadata": {
    "execution": {
     "iopub.execute_input": "2024-01-26T03:55:23.972867Z",
     "iopub.status.busy": "2024-01-26T03:55:23.972509Z",
     "iopub.status.idle": "2024-01-26T03:55:24.003428Z",
     "shell.execute_reply": "2024-01-26T03:55:24.002674Z",
     "shell.execute_reply.started": "2024-01-26T03:55:23.972838Z"
    }
   },
   "outputs": [],
   "source": [
    "X_train_encode = np.load('X_train_encode_model_Example.npy')\n",
    "X_test_encode = np.load('X_test_encode_model_Example.npy')\n",
    "y_train = np.load('y_train_example.npy')"
   ]
  },
  {
   "cell_type": "code",
   "execution_count": 19,
   "metadata": {
    "execution": {
     "iopub.execute_input": "2024-01-26T03:55:25.017542Z",
     "iopub.status.busy": "2024-01-26T03:55:25.016686Z",
     "iopub.status.idle": "2024-01-26T03:55:25.021014Z",
     "shell.execute_reply": "2024-01-26T03:55:25.020330Z",
     "shell.execute_reply.started": "2024-01-26T03:55:25.017513Z"
    }
   },
   "outputs": [],
   "source": [
    "#Loading Model\n",
    "#Doesn't work as the model.h5 is too high of a memory requirement\n",
    "#Change text as you\n",
    "#classification_model = tf.keras.models.load_model(\"model.h5\")\n",
    "#classification_model.summary()"
   ]
  },
  {
   "cell_type": "code",
   "execution_count": 20,
   "metadata": {
    "colab": {
     "base_uri": "https://localhost:8080/"
    },
    "execution": {
     "iopub.execute_input": "2024-01-26T03:55:27.606515Z",
     "iopub.status.busy": "2024-01-26T03:55:27.605854Z",
     "iopub.status.idle": "2024-01-26T03:55:27.610913Z",
     "shell.execute_reply": "2024-01-26T03:55:27.610284Z",
     "shell.execute_reply.started": "2024-01-26T03:55:27.606479Z"
    },
    "id": "IuZTFDdmWGzA",
    "outputId": "2df21eb9-4bd9-4ca5-a6e6-96497e09571b"
   },
   "outputs": [],
   "source": [
    "# General imports\n",
    "from sklearn.datasets import make_classification\n",
    "from sklearn.preprocessing import MinMaxScaler\n",
    "from sklearn.preprocessing import LabelEncoder\n",
    "from sklearn.model_selection import train_test_split\n",
    "from sklearn.linear_model import LogisticRegression\n",
    "from sklearn.metrics import accuracy_score\n",
    "from tensorflow.keras.models import load_model\n",
    "from sklearn.model_selection import GridSearchCV, KFold"
   ]
  },
  {
   "cell_type": "code",
   "execution_count": 21,
   "metadata": {
    "colab": {
     "base_uri": "https://localhost:8080/"
    },
    "execution": {
     "iopub.execute_input": "2024-01-26T03:55:29.004711Z",
     "iopub.status.busy": "2024-01-26T03:55:29.004068Z",
     "iopub.status.idle": "2024-01-26T03:56:01.221504Z",
     "shell.execute_reply": "2024-01-26T03:56:01.220315Z",
     "shell.execute_reply.started": "2024-01-26T03:55:29.004681Z"
    },
    "id": "JRl-fNaHaDyo",
    "outputId": "058c8715-1534-492e-d963-dbe57b251182"
   },
   "outputs": [
    {
     "name": "stdout",
     "output_type": "stream",
     "text": [
      "Best Hyperparameters: {'criterion': 'gini', 'max_features': 'sqrt', 'n_estimators': 500}\n",
      "Best Cross-Validation Accuracy: 0.9748709751811118\n"
     ]
    }
   ],
   "source": [
    "# \n",
    "# Random Forest\n",
    "#\n",
    "import numpy as np\n",
    "from sklearn.ensemble import RandomForestClassifier\n",
    "from sklearn.metrics import accuracy_score\n",
    "from sklearn.model_selection import train_test_split\n",
    "from tensorflow.keras.layers import Input, Dense\n",
    "from tensorflow.keras.models import Model\n",
    "\n",
    "\n",
    "param_grid = {\n",
    "    'n_estimators': [500, 1000,2000],\n",
    "    'max_features': [ 'sqrt', 'log2'],\n",
    "    'criterion': ['gini', 'entropy','log_loss']\n",
    "}\n",
    "\n",
    "k_fold = KFold(n_splits=5, shuffle=True, random_state=42)\n",
    "\n",
    "grid_search = GridSearchCV(RandomForestClassifier(),param_grid, cv=k_fold, scoring='accuracy', n_jobs=-1)\n",
    "grid_search.fit(X_train_encode, y_train)\n",
    "\n",
    "# Print the best hyperparameters and corresponding performance\n",
    "print(\"Best Hyperparameters:\", grid_search.best_params_)\n",
    "print(\"Best Cross-Validation Accuracy:\", grid_search.best_score_)"
   ]
  },
  {
   "cell_type": "code",
   "execution_count": null,
   "metadata": {
    "colab": {
     "base_uri": "https://localhost:8080/"
    },
    "execution": {
     "iopub.status.busy": "2024-01-26T03:25:35.283002Z",
     "iopub.status.idle": "2024-01-26T03:25:35.283275Z",
     "shell.execute_reply": "2024-01-26T03:25:35.283158Z",
     "shell.execute_reply.started": "2024-01-26T03:25:35.283144Z"
    },
    "id": "bC5-0FObbE39",
    "outputId": "01cf76e7-c0a4-439e-8ea3-34043df6166b"
   },
   "outputs": [],
   "source": [
    "#\n",
    "# Adaboost\n",
    "#\n",
    "import numpy as np\n",
    "from sklearn.ensemble import AdaBoostClassifier\n",
    "from sklearn.metrics import accuracy_score\n",
    "from sklearn.model_selection import train_test_split\n",
    "from tensorflow.keras.layers import Input, Dense\n",
    "from tensorflow.keras.models import Model\n",
    "from sklearn.tree import DecisionTreeClassifier\n",
    "\n",
    "param_grid = {\n",
    "    'n_estimators': [1000,1500,2000],\n",
    "    'learning_rate': [0.001, 0.0001, 0.0001],\n",
    "    'base_estimator': [DecisionTreeClassifier(max_depth=1), DecisionTreeClassifier(max_depth=2)],\n",
    "    'algorithm': ['SAMME', 'SAMME.R'],\n",
    "}\n",
    "\n",
    "k_fold = KFold(n_splits=5, shuffle=True, random_state=42)\n",
    "\n",
    "grid_search = GridSearchCV(AdaBoostClassifier(),param_grid, cv=k_fold, scoring='accuracy', n_jobs=-1)\n",
    "grid_search.fit(X_train_encode, y_train)\n",
    "\n",
    "# Print the best hyperparameters and corresponding performance\n",
    "print(\"Best Hyperparameters:\", grid_search.best_params_)\n",
    "print(\"Best Cross-Validation Accuracy:\", grid_search.best_score_)\n"
   ]
  },
  {
   "cell_type": "code",
   "execution_count": null,
   "metadata": {
    "colab": {
     "base_uri": "https://localhost:8080/"
    },
    "execution": {
     "iopub.status.busy": "2024-01-26T03:25:35.284422Z",
     "iopub.status.idle": "2024-01-26T03:25:35.284699Z",
     "shell.execute_reply": "2024-01-26T03:25:35.284580Z",
     "shell.execute_reply.started": "2024-01-26T03:25:35.284566Z"
    },
    "id": "RkyDgZcEbEfo",
    "outputId": "46f1b97d-34db-4b95-8630-98d7d8e94944"
   },
   "outputs": [],
   "source": [
    "#\n",
    "# GradientBoosting\n",
    "#\n",
    "\n",
    "import numpy as np\n",
    "from sklearn.ensemble import GradientBoostingClassifier\n",
    "from sklearn.metrics import accuracy_score\n",
    "from sklearn.model_selection import train_test_split\n",
    "from tensorflow.keras.layers import Input, Dense\n",
    "from tensorflow.keras.models import Model\n",
    "from sklearn.model_selection import GridSearchCV\n",
    "\n",
    "param_grid = {\n",
    "   'n_estimators': [1000,1500,2000],\n",
    "    'learning_rate': [0.001, 0.0001, 0.0001],\n",
    "    'subsample': [0.8, 0.9, 1.0],\n",
    "    'warm_start' : [True,False]\n",
    "}\n",
    "\n",
    "k_fold = KFold(n_splits=5, shuffle=True, random_state=42)\n",
    "\n",
    "grid_search = GridSearchCV(GradientBoostingClassifier(),param_grid, cv=k_fold, scoring='accuracy', n_jobs=-1)\n",
    "grid_search.fit(X_train_encode, y_train)\n",
    "\n",
    "# Print the best hyperparameters and corresponding performance\n",
    "print(\"Best Hyperparameters:\", grid_search.best_params_)\n",
    "print(\"Best Cross-Validation Accuracy:\", grid_search.best_score_)"
   ]
  }
 ],
 "metadata": {
  "accelerator": "GPU",
  "colab": {
   "gpuType": "V100",
   "machine_shape": "hm",
   "provenance": []
  },
  "kernelspec": {
   "display_name": "Python 3 (ipykernel)",
   "language": "python",
   "name": "python3"
  },
  "language_info": {
   "codemirror_mode": {
    "name": "ipython",
    "version": 3
   },
   "file_extension": ".py",
   "mimetype": "text/x-python",
   "name": "python",
   "nbconvert_exporter": "python",
   "pygments_lexer": "ipython3",
   "version": "3.9.16"
  }
 },
 "nbformat": 4,
 "nbformat_minor": 4
}
